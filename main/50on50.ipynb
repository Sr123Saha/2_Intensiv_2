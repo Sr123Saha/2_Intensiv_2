{
 "cells": [
  {
   "cell_type": "code",
   "execution_count": 7,
   "metadata": {},
   "outputs": [],
   "source": [
    "import pandas as pd\n",
    "import xgboost as xgb\n",
    "from sklearn.metrics import roc_curve, auc, accuracy_score\n",
    "import matplotlib.pyplot as plt\n",
    "import seaborn as sns"
   ]
  },
  {
   "cell_type": "markdown",
   "metadata": {},
   "source": [
    "Мы готовим данные чтобы тут было 50 на 50 протестить угадывает ли модель еденицы"
   ]
  },
  {
   "cell_type": "code",
   "execution_count": 8,
   "metadata": {},
   "outputs": [],
   "source": [
    "valid_df = pd.read_csv(\"val.csv\")"
   ]
  },
  {
   "cell_type": "code",
   "execution_count": 9,
   "metadata": {},
   "outputs": [
    {
     "name": "stdout",
     "output_type": "stream",
     "text": [
      "     report_date  client_id  target  col1453  col1454  col1455  col1456  \\\n",
      "0              1          2       0        0       16      0.0      0.0   \n",
      "1              2          4       0        0       18      0.0      0.0   \n",
      "2              2          9       0        0       93      0.0      0.0   \n",
      "3              0         12       0        0      108      0.0      0.0   \n",
      "4              0         14       0        0      120      0.0      0.0   \n",
      "..           ...        ...     ...      ...      ...      ...      ...   \n",
      "127            0       2228       1        0     2160      0.0      0.0   \n",
      "128            0       3256       1        0      773      0.0      0.0   \n",
      "129            0       1150       1        0     2223      0.0      0.0   \n",
      "130            1       1150       1        0     2223      0.0      1.0   \n",
      "131            2       1974       1        0     2916      0.0      0.0   \n",
      "\n",
      "     col1457  col1458  col1459  ...  col2588  col2589  col2590     col2654  \\\n",
      "0        0.0      0.0      0.0  ...    240.0    240.0    240.0   4941670.0   \n",
      "1        1.0      1.0      1.0  ...    360.0    360.0    360.0  11789500.0   \n",
      "2        0.0      0.0      0.0  ...    348.0    348.0    348.0   7000000.0   \n",
      "3        0.0      0.0      0.0  ...    300.0    300.0    300.0   7737230.5   \n",
      "4        0.0      0.0      0.0  ...    362.0    362.0    362.0   7737230.5   \n",
      "..       ...      ...      ...  ...      ...      ...      ...         ...   \n",
      "127      0.0      0.0      0.0  ...    300.0    300.0    300.0   7737230.5   \n",
      "128      0.0      0.0      1.0  ...    360.0    360.0    360.0  12000000.0   \n",
      "129      0.0      0.0      0.0  ...    300.0    300.0    300.0   7737230.5   \n",
      "130      1.0      1.0      1.0  ...    240.0    240.0    240.0   4717500.0   \n",
      "131      0.0      0.0      0.0  ...    180.0    180.0    180.0   1400000.0   \n",
      "\n",
      "        col2655     col2656     col2660     col2661     col2662   col2663  \n",
      "0     4941670.0   4941670.0   4941670.0   4941670.0   4941670.0  0.256919  \n",
      "1    11789500.0  11789500.0  11789500.0  11789500.0  11789500.0  0.267221  \n",
      "2     7000000.0   7000000.0   7000000.0   7000000.0   7000000.0  0.257217  \n",
      "3     7603419.5   7687750.0   6841532.0   6600000.0   6733329.5  0.256261  \n",
      "4     7603419.5   7687750.0  10391000.0  10391000.0  10391000.0  0.257348  \n",
      "..          ...         ...         ...         ...         ...       ...  \n",
      "127   7603419.5   7687750.0   6841532.0   6600000.0   6733329.5  0.291006  \n",
      "128  12000000.0  12000000.0  12000000.0  12000000.0  12000000.0  0.264948  \n",
      "129   7603419.5   7687750.0   6841532.0   6600000.0   6733329.5  0.339800  \n",
      "130   4717500.0   4717500.0   4717500.0   4717500.0   4717500.0  0.339800  \n",
      "131   1400000.0   1400000.0   1400000.0   1400000.0   1400000.0  0.285755  \n",
      "\n",
      "[132 rows x 273 columns]\n"
     ]
    }
   ],
   "source": [
    "df_ones = valid_df[valid_df['target'] == 1]\n",
    "\n",
    "df_zeros = valid_df[valid_df['target'] == 0].head(66)\n",
    "\n",
    "filtered_df = pd.concat([df_zeros, df_ones])\n",
    "\n",
    "filtered_df = filtered_df.reset_index(drop=True)\n",
    "print(filtered_df)"
   ]
  },
  {
   "cell_type": "code",
   "execution_count": 10,
   "metadata": {},
   "outputs": [],
   "source": [
    "filtered_df.to_csv('50.csv', index=False, encoding='utf-8')"
   ]
  }
 ],
 "metadata": {
  "kernelspec": {
   "display_name": ".venv",
   "language": "python",
   "name": "python3"
  },
  "language_info": {
   "codemirror_mode": {
    "name": "ipython",
    "version": 3
   },
   "file_extension": ".py",
   "mimetype": "text/x-python",
   "name": "python",
   "nbconvert_exporter": "python",
   "pygments_lexer": "ipython3",
   "version": "3.12.8"
  }
 },
 "nbformat": 4,
 "nbformat_minor": 2
}
