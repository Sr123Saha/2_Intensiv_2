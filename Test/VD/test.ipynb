{
 "cells": [
  {
   "cell_type": "code",
   "execution_count": 2,
   "metadata": {},
   "outputs": [],
   "source": [
    "import pandas as pd\n",
    "from sklearn.metrics import accuracy_score, roc_auc_score\n",
    "import matplotlib.pyplot as plt\n",
    "import seaborn as sns\n",
    "import numpy as np\n",
    "from sklearn.linear_model import LogisticRegression, LinearRegression\n",
    "from sklearn.model_selection import train_test_split\n",
    "from sklearn.preprocessing import StandardScaler\n",
    "from sklearn.metrics import accuracy_score, mean_squared_error, r2_score\n",
    "from sklearn.impute import SimpleImputer\n"
   ]
  },
  {
   "cell_type": "code",
   "execution_count": 3,
   "metadata": {},
   "outputs": [],
   "source": [
    "ca = pd.read_csv('dogma5.csv')\n",
    "\n"
   ]
  },
  {
   "cell_type": "code",
   "execution_count": 4,
   "metadata": {},
   "outputs": [],
   "source": [
    "X = ca.drop(columns=[ca.columns[0], ca.columns[-1]])  # Признаки (все, кроме первого и последнего столбца)\n",
    "y_class = ca.iloc[:, 0]  # Первая целевая переменная (покупка или нет)\n",
    "y_reg = ca.iloc[:, -1]"
   ]
  },
  {
   "cell_type": "code",
   "execution_count": 5,
   "metadata": {},
   "outputs": [
    {
     "name": "stdout",
     "output_type": "stream",
     "text": [
      "0.0.4                 4865\n",
      "1.0                    540\n",
      "1.0.1                    0\n",
      "0.0.10                4865\n",
      "1.0.2                  541\n",
      "                      ... \n",
      "274.6188739789965        0\n",
      "271.6085180863477        0\n",
      "273.10719564371834       0\n",
      "7062679.317856605        0\n",
      "6920071.582174959        0\n",
      "Length: 72, dtype: int64\n",
      "0\n",
      "0\n"
     ]
    }
   ],
   "source": [
    "print(X.isnull().sum())  # Количество пропусков в признаках\n",
    "print(y_class.isnull().sum())  # Количество пропусков в первой целевой переменной\n",
    "print(y_reg.isnull().sum()) "
   ]
  },
  {
   "cell_type": "code",
   "execution_count": 6,
   "metadata": {},
   "outputs": [],
   "source": [
    "imputer = SimpleImputer(strategy='mean')\n",
    "X_filled = imputer.fit_transform(X)"
   ]
  },
  {
   "cell_type": "code",
   "execution_count": 7,
   "metadata": {},
   "outputs": [],
   "source": [
    "y_class = y_class.map({'yes': 1, 'no': 0})"
   ]
  },
  {
   "cell_type": "code",
   "execution_count": 8,
   "metadata": {},
   "outputs": [],
   "source": [
    "scaler = StandardScaler()\n",
    "X_scaled = scaler.fit_transform(X_filled)\n"
   ]
  },
  {
   "cell_type": "code",
   "execution_count": 9,
   "metadata": {},
   "outputs": [],
   "source": [
    "ca = ca.dropna(subset=[ca.columns[0], ca.columns[-1]])"
   ]
  },
  {
   "cell_type": "code",
   "execution_count": 10,
   "metadata": {},
   "outputs": [],
   "source": [
    "y_class = y_class.values"
   ]
  },
  {
   "cell_type": "code",
   "execution_count": 11,
   "metadata": {},
   "outputs": [
    {
     "name": "stdout",
     "output_type": "stream",
     "text": [
      "0\n"
     ]
    }
   ],
   "source": [
    "scaler = StandardScaler()\n",
    "X_scaled = scaler.fit_transform(X_filled)  # Еще раз масштабируем признаки\n",
    "\n",
    "# Проверим, что данных теперь нет пропусков\n",
    "print(pd.isnull(X_scaled).sum())  # Для признаков"
   ]
  },
  {
   "cell_type": "code",
   "execution_count": 12,
   "metadata": {},
   "outputs": [
    {
     "name": "stdout",
     "output_type": "stream",
     "text": [
      "Количество пропусков в y_class: 0\n"
     ]
    }
   ],
   "source": [
    "ca = ca.dropna(subset=[ca.columns[0], ca.columns[-1]])\n",
    "\n",
    "# Переприсвоим X_scaled и y_class\n",
    "X_scaled = ca.drop([ca.columns[0], ca.columns[-1]], axis=1).values\n",
    "y_class = ca[ca.columns[0]].values  # Или, если первый столбец - это \n",
    "print(\"Количество пропусков в y_class:\", pd.isnull(y_class).sum())"
   ]
  },
  {
   "cell_type": "code",
   "execution_count": null,
   "metadata": {},
   "outputs": [],
   "source": []
  },
  {
   "cell_type": "code",
   "execution_count": 13,
   "metadata": {},
   "outputs": [
    {
     "name": "stdout",
     "output_type": "stream",
     "text": [
      "Количество пропусков в X_cleaned: 0\n",
      "Количество пропусков в y_class_cleaned: 0\n"
     ]
    }
   ],
   "source": [
    "ca_cleaned = ca.dropna(axis=1)\n",
    "\n",
    "# Преобразуем X и y\n",
    "X_cleaned = ca_cleaned.drop([ca_cleaned.columns[0], ca_cleaned.columns[-1]], axis=1).values\n",
    "y_class_cleaned = ca_cleaned[ca_cleaned.columns[0]].values  # Целевая переменная - первый столбец\n",
    "\n",
    "# Проверим, что пропусков больше нет\n",
    "print(\"Количество пропусков в X_cleaned:\", pd.isnull(X_cleaned).sum())\n",
    "print(\"Количество пропусков в y_class_cleaned:\", pd.isnull(y_class_cleaned).sum())\n",
    "\n",
    "# Обучим модель\n"
   ]
  },
  {
   "cell_type": "code",
   "execution_count": null,
   "metadata": {},
   "outputs": [],
   "source": [
    "model_class = LogisticRegression(max_iter=100, solver='liblinear', class_weight='balanced')\n",
    "model_class.fit(X_cleaned, y_class_cleaned)"
   ]
  },
  {
   "cell_type": "code",
   "execution_count": null,
   "metadata": {},
   "outputs": [],
   "source": [
    "y_pred_class = model_class.predict(X_scaled)"
   ]
  },
  {
   "cell_type": "code",
   "execution_count": null,
   "metadata": {},
   "outputs": [],
   "source": [
    "accuracy = accuracy_score(y_class, y_pred_class)\n",
    "print(f'Accuracy (Classification Model): {accuracy:.4f}')"
   ]
  },
  {
   "cell_type": "code",
   "execution_count": null,
   "metadata": {},
   "outputs": [],
   "source": [
    "model_reg = LinearRegression()\n",
    "model_reg.fit(X_scaled, y_reg)\n"
   ]
  },
  {
   "cell_type": "code",
   "execution_count": null,
   "metadata": {},
   "outputs": [],
   "source": [
    "y_pred_reg = model_reg.predict(X_scaled)"
   ]
  },
  {
   "cell_type": "code",
   "execution_count": null,
   "metadata": {},
   "outputs": [],
   "source": [
    "mse = mean_squared_error(y_reg, y_pred_reg)\n",
    "r2 = r2_score(y_reg, y_pred_reg)\n",
    "print(f'MSE (Regression Model): {mse:.4f}')\n",
    "print(f'R² (Regression Model): {r2:.4f}')"
   ]
  }
 ],
 "metadata": {
  "kernelspec": {
   "display_name": ".venv",
   "language": "python",
   "name": "python3"
  },
  "language_info": {
   "codemirror_mode": {
    "name": "ipython",
    "version": 3
   },
   "file_extension": ".py",
   "mimetype": "text/x-python",
   "name": "python",
   "nbconvert_exporter": "python",
   "pygments_lexer": "ipython3",
   "version": "3.9.13"
  }
 },
 "nbformat": 4,
 "nbformat_minor": 2
}
