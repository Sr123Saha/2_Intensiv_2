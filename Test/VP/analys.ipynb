{
 "cells": [
  {
   "cell_type": "code",
   "execution_count": 13,
   "metadata": {},
   "outputs": [],
   "source": [
    "import pandas as pd\n",
    "import matplotlib.pyplot as plt\n",
    "import missingno as msno\n",
    "import seaborn as sns\n",
    "import numpy as np"
   ]
  },
  {
   "cell_type": "code",
   "execution_count": 14,
   "metadata": {},
   "outputs": [
    {
     "name": "stderr",
     "output_type": "stream",
     "text": [
      "C:\\Users\\Darin_btw\\AppData\\Local\\Temp\\ipykernel_14284\\4057573501.py:2: DtypeWarning: Columns (51,52,53,54,55,56,57,58,59,60,61,62,63,64,65,66,87,88,89,90,91,92,93,94,95,96,97,98,99,100,101,102,131,132,133,135,136,139,140,141,142,143,144,145,146,147,148,149,151,152,155,156,157,158,159,160,161,163,164,165,167,168,169,171,172,173,174,175,176,177,178,183,184,185,186,187,188,189,190,191,192,193,194,195,196,197,198,203,204,205,206,207,208,209,210,211,212,213,214,215,216,217,218,223,224,227,239,240,241,242,243,244,245,246,459,460,461,467,468,469,515,516,523,524,531,532,539,540,547,548,555,556,563,564,565,567,571,572,573,575,579,580,581,582,583,587,588,595,596,603,604,611,612,613,615,795,796,797,799,1031,1032,1033,1034,1035,1036,1037,1039,1040,1041,1042,1043,1044,1045,1047,1048,1049,1050,1051,1052,1055,1056,1057,1058,1059,1060,1063,1064,1065,1067,1068,1069,1072,1073,1074,1075,1076,1077,1078,1172,1173,1174,1176,1177,1178,1179,1180,1181,1182,1275,1276,1277,1278,1279,1280,1281,1282,1447,1448,1449,1450,1451,1452,1453,1454,1649,1650,1651,1652,1653,1654,1655,1656,2193,2194,2195,2196,2199) have mixed types. Specify dtype option on import or set low_memory=False.\n",
      "  data = pd.read_csv('../csv_file/train.csv')\n"
     ]
    },
    {
     "data": {
      "text/html": [
       "<div>\n",
       "<style scoped>\n",
       "    .dataframe tbody tr th:only-of-type {\n",
       "        vertical-align: middle;\n",
       "    }\n",
       "\n",
       "    .dataframe tbody tr th {\n",
       "        vertical-align: top;\n",
       "    }\n",
       "\n",
       "    .dataframe thead th {\n",
       "        text-align: right;\n",
       "    }\n",
       "</style>\n",
       "<table border=\"1\" class=\"dataframe\">\n",
       "  <thead>\n",
       "    <tr style=\"text-align: right;\">\n",
       "      <th></th>\n",
       "      <th>report_date</th>\n",
       "      <th>client_id</th>\n",
       "      <th>target</th>\n",
       "      <th>col1</th>\n",
       "      <th>col2</th>\n",
       "      <th>col3</th>\n",
       "      <th>col4</th>\n",
       "      <th>col5</th>\n",
       "      <th>col6</th>\n",
       "      <th>col7</th>\n",
       "      <th>...</th>\n",
       "      <th>col2654</th>\n",
       "      <th>col2655</th>\n",
       "      <th>col2656</th>\n",
       "      <th>col2657</th>\n",
       "      <th>col2658</th>\n",
       "      <th>col2659</th>\n",
       "      <th>col2660</th>\n",
       "      <th>col2661</th>\n",
       "      <th>col2662</th>\n",
       "      <th>col2663</th>\n",
       "    </tr>\n",
       "  </thead>\n",
       "  <tbody>\n",
       "    <tr>\n",
       "      <th>0</th>\n",
       "      <td>2022-11-01</td>\n",
       "      <td>1</td>\n",
       "      <td>0</td>\n",
       "      <td>NaN</td>\n",
       "      <td>NaN</td>\n",
       "      <td>NaN</td>\n",
       "      <td>NaN</td>\n",
       "      <td>NaN</td>\n",
       "      <td>NaN</td>\n",
       "      <td>NaN</td>\n",
       "      <td>...</td>\n",
       "      <td>NaN</td>\n",
       "      <td>NaN</td>\n",
       "      <td>NaN</td>\n",
       "      <td>NaN</td>\n",
       "      <td>NaN</td>\n",
       "      <td>NaN</td>\n",
       "      <td>NaN</td>\n",
       "      <td>NaN</td>\n",
       "      <td>NaN</td>\n",
       "      <td>0.256261</td>\n",
       "    </tr>\n",
       "    <tr>\n",
       "      <th>1</th>\n",
       "      <td>2022-11-01</td>\n",
       "      <td>5</td>\n",
       "      <td>0</td>\n",
       "      <td>NaN</td>\n",
       "      <td>NaN</td>\n",
       "      <td>NaN</td>\n",
       "      <td>NaN</td>\n",
       "      <td>NaN</td>\n",
       "      <td>NaN</td>\n",
       "      <td>NaN</td>\n",
       "      <td>...</td>\n",
       "      <td>7616803.0</td>\n",
       "      <td>7616803.0</td>\n",
       "      <td>7616803.0</td>\n",
       "      <td>NaN</td>\n",
       "      <td>NaN</td>\n",
       "      <td>NaN</td>\n",
       "      <td>7616803.0</td>\n",
       "      <td>7616803.0</td>\n",
       "      <td>7616803.0</td>\n",
       "      <td>0.256261</td>\n",
       "    </tr>\n",
       "    <tr>\n",
       "      <th>2</th>\n",
       "      <td>2022-05-01</td>\n",
       "      <td>6</td>\n",
       "      <td>0</td>\n",
       "      <td>NaN</td>\n",
       "      <td>NaN</td>\n",
       "      <td>NaN</td>\n",
       "      <td>NaN</td>\n",
       "      <td>NaN</td>\n",
       "      <td>NaN</td>\n",
       "      <td>NaN</td>\n",
       "      <td>...</td>\n",
       "      <td>NaN</td>\n",
       "      <td>NaN</td>\n",
       "      <td>NaN</td>\n",
       "      <td>NaN</td>\n",
       "      <td>NaN</td>\n",
       "      <td>NaN</td>\n",
       "      <td>NaN</td>\n",
       "      <td>NaN</td>\n",
       "      <td>NaN</td>\n",
       "      <td>0.256261</td>\n",
       "    </tr>\n",
       "    <tr>\n",
       "      <th>3</th>\n",
       "      <td>2022-09-01</td>\n",
       "      <td>7</td>\n",
       "      <td>0</td>\n",
       "      <td>NaN</td>\n",
       "      <td>NaN</td>\n",
       "      <td>NaN</td>\n",
       "      <td>NaN</td>\n",
       "      <td>NaN</td>\n",
       "      <td>NaN</td>\n",
       "      <td>NaN</td>\n",
       "      <td>...</td>\n",
       "      <td>NaN</td>\n",
       "      <td>NaN</td>\n",
       "      <td>NaN</td>\n",
       "      <td>NaN</td>\n",
       "      <td>NaN</td>\n",
       "      <td>NaN</td>\n",
       "      <td>NaN</td>\n",
       "      <td>NaN</td>\n",
       "      <td>NaN</td>\n",
       "      <td>0.258682</td>\n",
       "    </tr>\n",
       "    <tr>\n",
       "      <th>4</th>\n",
       "      <td>2022-08-01</td>\n",
       "      <td>8</td>\n",
       "      <td>0</td>\n",
       "      <td>NaN</td>\n",
       "      <td>NaN</td>\n",
       "      <td>NaN</td>\n",
       "      <td>NaN</td>\n",
       "      <td>NaN</td>\n",
       "      <td>NaN</td>\n",
       "      <td>NaN</td>\n",
       "      <td>...</td>\n",
       "      <td>NaN</td>\n",
       "      <td>NaN</td>\n",
       "      <td>NaN</td>\n",
       "      <td>NaN</td>\n",
       "      <td>NaN</td>\n",
       "      <td>NaN</td>\n",
       "      <td>NaN</td>\n",
       "      <td>NaN</td>\n",
       "      <td>NaN</td>\n",
       "      <td>0.254164</td>\n",
       "    </tr>\n",
       "  </tbody>\n",
       "</table>\n",
       "<p>5 rows × 2666 columns</p>\n",
       "</div>"
      ],
      "text/plain": [
       "  report_date  client_id  target  col1  col2  col3  col4  col5  col6  col7  \\\n",
       "0  2022-11-01          1       0   NaN   NaN   NaN   NaN   NaN   NaN   NaN   \n",
       "1  2022-11-01          5       0   NaN   NaN   NaN   NaN   NaN   NaN   NaN   \n",
       "2  2022-05-01          6       0   NaN   NaN   NaN   NaN   NaN   NaN   NaN   \n",
       "3  2022-09-01          7       0   NaN   NaN   NaN   NaN   NaN   NaN   NaN   \n",
       "4  2022-08-01          8       0   NaN   NaN   NaN   NaN   NaN   NaN   NaN   \n",
       "\n",
       "   ...    col2654    col2655    col2656  col2657  col2658  col2659    col2660  \\\n",
       "0  ...        NaN        NaN        NaN      NaN      NaN      NaN        NaN   \n",
       "1  ...  7616803.0  7616803.0  7616803.0      NaN      NaN      NaN  7616803.0   \n",
       "2  ...        NaN        NaN        NaN      NaN      NaN      NaN        NaN   \n",
       "3  ...        NaN        NaN        NaN      NaN      NaN      NaN        NaN   \n",
       "4  ...        NaN        NaN        NaN      NaN      NaN      NaN        NaN   \n",
       "\n",
       "     col2661    col2662   col2663  \n",
       "0        NaN        NaN  0.256261  \n",
       "1  7616803.0  7616803.0  0.256261  \n",
       "2        NaN        NaN  0.256261  \n",
       "3        NaN        NaN  0.258682  \n",
       "4        NaN        NaN  0.254164  \n",
       "\n",
       "[5 rows x 2666 columns]"
      ]
     },
     "execution_count": 14,
     "metadata": {},
     "output_type": "execute_result"
    }
   ],
   "source": [
    "# Загружаем данные из pandas\n",
    "data = pd.read_csv('../csv_file/train.csv')\n",
    "data.head()"
   ]
  },
  {
   "cell_type": "code",
   "execution_count": 15,
   "metadata": {},
   "outputs": [],
   "source": [
    "# import seaborn as sns\n",
    "# import matplotlib.pyplot as plt\n",
    "\n",
    "# sns.heatmap(data.isna(), cmap=\"viridis\", cbar=False)\n",
    "# plt.title(\"Визуализация пропусков\")\n",
    "# plt.show()\n"
   ]
  },
  {
   "cell_type": "code",
   "execution_count": 16,
   "metadata": {},
   "outputs": [
    {
     "name": "stdout",
     "output_type": "stream",
     "text": [
      "Размер данных до удаления: (14456, 2666)\n",
      "Размер данных после удаления: (14456, 2585)\n"
     ]
    }
   ],
   "source": [
    "print(\"Размер данных до удаления:\", data.shape)\n",
    "data = data.dropna(axis=1, how='all')\n",
    "print(\"Размер данных после удаления:\", data.shape)\n"
   ]
  },
  {
   "cell_type": "code",
   "execution_count": 17,
   "metadata": {},
   "outputs": [
    {
     "name": "stdout",
     "output_type": "stream",
     "text": [
      "<class 'pandas.core.frame.DataFrame'>\n",
      "RangeIndex: 14456 entries, 0 to 14455\n",
      "Columns: 2585 entries, report_date to col2663\n",
      "dtypes: float64(2235), int64(3), object(347)\n",
      "memory usage: 285.1+ MB\n"
     ]
    }
   ],
   "source": [
    "data.info()"
   ]
  },
  {
   "cell_type": "code",
   "execution_count": 18,
   "metadata": {},
   "outputs": [
    {
     "data": {
      "text/plain": [
       "report_date     object\n",
       "client_id        int64\n",
       "target           int64\n",
       "col1           float64\n",
       "col2           float64\n",
       "                ...   \n",
       "col2659        float64\n",
       "col2660        float64\n",
       "col2661        float64\n",
       "col2662        float64\n",
       "col2663        float64\n",
       "Length: 2585, dtype: object"
      ]
     },
     "execution_count": 18,
     "metadata": {},
     "output_type": "execute_result"
    }
   ],
   "source": [
    "data.dtypes"
   ]
  },
  {
   "cell_type": "code",
   "execution_count": 19,
   "metadata": {},
   "outputs": [
    {
     "data": {
      "text/plain": [
       "<Axes: >"
      ]
     },
     "execution_count": 19,
     "metadata": {},
     "output_type": "execute_result"
    },
    {
     "data": {
      "image/png": "[encoded data removed]",
      "text/plain": [
       "<Figure size 640x480 with 2 Axes>"
      ]
     },
     "metadata": {},
     "output_type": "display_data"
    }
   ],
   "source": [
    "cols = data.columns\n",
    "#фиолетовые - не пропущенные данные, желтые - пропущенные\n",
    "colours = ['#8b00ff', '#ffff00']\n",
    "sns.heatmap(data[cols].isnull(), cmap=sns.color_palette(colours))"
   ]
  },
  {
   "cell_type": "code",
   "execution_count": 20,
   "metadata": {},
   "outputs": [
    {
     "name": "stdout",
     "output_type": "stream",
     "text": [
      "report_date - 0.0%\n",
      "client_id - 0.0%\n",
      "target - 0.0%\n",
      "col1 - 0.999792473713337%\n",
      "col2 - 0.999584947426674%\n",
      "col3 - 0.9991698948533481%\n",
      "col4 - 0.9986856668511345%\n",
      "col5 - 0.9999308245711124%\n",
      "col6 - 0.9999308245711124%\n",
      "col7 - 0.999792473713337%\n",
      "col8 - 0.9994465965688988%\n",
      "col9 - 0.9999308245711124%\n",
      "col10 - 0.9999308245711124%\n",
      "col11 - 0.999792473713337%\n",
      "col12 - 0.9994465965688988%\n",
      "col13 - 0.9999308245711124%\n",
      "col14 - 0.9999308245711124%\n",
      "col15 - 0.999792473713337%\n",
      "col16 - 0.9994465965688988%\n",
      "col17 - 0.9999308245711124%\n",
      "col18 - 0.9999308245711124%\n",
      "col19 - 0.999792473713337%\n",
      "col20 - 0.9994465965688988%\n",
      "col21 - 0.9999308245711124%\n",
      "col22 - 0.9999308245711124%\n",
      "col23 - 0.999792473713337%\n",
      "col24 - 0.9994465965688988%\n",
      "col25 - 0.9999308245711124%\n",
      "col26 - 0.9999308245711124%\n",
      "col27 - 0.999792473713337%\n",
      "col28 - 0.9994465965688988%\n",
      "col29 - 0.9999308245711124%\n",
      "col30 - 0.9999308245711124%\n",
      "col31 - 0.999792473713337%\n",
      "col32 - 0.9994465965688988%\n",
      "col33 - 0.9999308245711124%\n",
      "col34 - 0.9999308245711124%\n",
      "col35 - 0.999792473713337%\n",
      "col36 - 0.9994465965688988%\n",
      "col37 - 0.9999308245711124%\n",
      "col38 - 0.9999308245711124%\n",
      "col39 - 0.999792473713337%\n",
      "col40 - 0.9994465965688988%\n",
      "col41 - 0.9999308245711124%\n",
      "col42 - 0.9999308245711124%\n",
      "col43 - 0.999792473713337%\n",
      "col44 - 0.9994465965688988%\n",
      "col45 - 0.9996541228555617%\n",
      "col46 - 0.9987548422800221%\n",
      "col47 - 0.9968871057000553%\n",
      "col48 - 0.991698948533481%\n",
      "col49 - 0.9996541228555617%\n",
      "col50 - 0.9988931931377975%\n",
      "col51 - 0.9973021582733813%\n",
      "col52 - 0.9925982291090205%\n",
      "col53 - 0.9996541228555617%\n",
      "col54 - 0.9987548422800221%\n",
      "col55 - 0.9968871057000553%\n",
      "col56 - 0.991698948533481%\n",
      "col57 - 0.9996541228555617%\n",
      "col58 - 0.9988931931377975%\n",
      "col59 - 0.9973021582733813%\n",
      "col60 - 0.9925982291090205%\n",
      "col61 - 0.9996541228555617%\n",
      "col62 - 0.9987548422800221%\n",
      "col63 - 0.9968871057000553%\n",
      "col64 - 0.991698948533481%\n",
      "col65 - 0.994120088544549%\n",
      "col66 - 0.9901079136690647%\n",
      "col67 - 0.9845047039291643%\n",
      "col68 - 0.9740592141671278%\n",
      "col69 - 0.994120088544549%\n",
      "col70 - 0.9901079136690647%\n",
      "col71 - 0.9845047039291643%\n",
      "col72 - 0.9740592141671278%\n",
      "col73 - 0.994120088544549%\n",
      "col74 - 0.9901079136690647%\n",
      "col75 - 0.9845047039291643%\n",
      "col76 - 0.9740592141671278%\n",
      "col77 - 0.994120088544549%\n",
      "col78 - 0.9901079136690647%\n",
      "col79 - 0.9845047039291643%\n",
      "col80 - 0.9740592141671278%\n",
      "col81 - 0.994120088544549%\n",
      "col82 - 0.9901079136690647%\n",
      "col83 - 0.9845047039291643%\n",
      "col84 - 0.9740592141671278%\n",
      "col85 - 0.9994465965688988%\n",
      "col86 - 0.9987548422800221%\n",
      "col87 - 0.9977863862755949%\n",
      "col88 - 0.9945351411178749%\n",
      "col89 - 0.9964720531267294%\n",
      "col90 - 0.9936358605423353%\n",
      "col91 - 0.9903154399557277%\n",
      "col92 - 0.9824986164914222%\n",
      "col93 - 0.9992390702822358%\n",
      "col94 - 0.9981322634200332%\n",
      "col95 - 0.9964028776978417%\n",
      "col96 - 0.991698948533481%\n",
      "col97 - 0.9960570005534034%\n"
     ]
    }
   ],
   "source": [
    "for col in data.columns[:100]:\n",
    "    percent_missing = np.mean(data[col].isnull())\n",
    "    print('{} - {}%'.format(col, percent_missing))"
   ]
  }
 ],
 "metadata": {
  "kernelspec": {
   "display_name": ".venv",
   "language": "python",
   "name": "python3"
  },
  "language_info": {
   "codemirror_mode": {
    "name": "ipython",
    "version": 3
   },
   "file_extension": ".py",
   "mimetype": "text/x-python",
   "name": "python",
   "nbconvert_exporter": "python",
   "pygments_lexer": "ipython3",
   "version": "3.12.6"
  }
 },
 "nbformat": 4,
 "nbformat_minor": 2
}
