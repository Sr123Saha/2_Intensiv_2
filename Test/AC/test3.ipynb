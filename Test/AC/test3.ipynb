{
 "cells": [
  {
   "cell_type": "code",
   "execution_count": 59,
   "metadata": {},
   "outputs": [],
   "source": [
    "import pandas as pd\n",
    "import numpy as np\n",
    "from sklearn.model_selection import train_test_split, GridSearchCV\n",
    "from sklearn.ensemble import RandomForestClassifier\n",
    "from sklearn.metrics import roc_auc_score, classification_report"
   ]
  },
  {
   "cell_type": "code",
   "execution_count": null,
   "metadata": {},
   "outputs": [],
   "source": [
    "Вниемание Не является верным решение так как не верно сделано но похоже на правду\n"
   ]
  },
  {
   "cell_type": "code",
   "execution_count": 60,
   "metadata": {},
   "outputs": [
    {
     "name": "stderr",
     "output_type": "stream",
     "text": [
      "C:\\Users\\josha\\AppData\\Local\\Temp\\ipykernel_9864\\629022312.py:1: DtypeWarning: Columns (51,52,53,54,55,56,57,58,59,60,61,62,63,64,65,66,87,88,89,90,91,92,93,94,95,96,97,98,99,100,101,102,131,132,133,135,136,139,140,141,142,143,144,145,146,147,148,149,151,152,155,156,157,158,159,160,161,163,164,165,167,168,169,171,172,173,174,175,176,177,178,183,184,185,186,187,188,189,190,191,192,193,194,195,196,197,198,203,204,205,206,207,208,209,210,211,212,213,214,215,216,217,218,223,224,227,239,240,241,242,243,244,245,246,459,460,461,467,468,469,515,516,523,524,531,532,539,540,547,548,555,556,563,564,565,567,571,572,573,575,579,580,581,582,583,587,588,595,596,603,604,611,612,613,615,795,796,797,799,1031,1032,1033,1034,1035,1036,1037,1039,1040,1041,1042,1043,1044,1045,1047,1048,1049,1050,1051,1052,1055,1056,1057,1058,1059,1060,1063,1064,1065,1067,1068,1069,1072,1073,1074,1075,1076,1077,1078,1172,1173,1174,1176,1177,1178,1179,1180,1181,1182,1275,1276,1277,1278,1279,1280,1281,1282,1447,1448,1449,1450,1451,1452,1453,1454,1649,1650,1651,1652,1653,1654,1655,1656,2193,2194,2195,2196,2199) have mixed types. Specify dtype option on import or set low_memory=False.\n",
      "  data = pd.read_csv('../csv_file/train.csv')\n",
      "C:\\Users\\josha\\AppData\\Local\\Temp\\ipykernel_9864\\629022312.py:2: DtypeWarning: Columns (51,52,53,54,55,56,57,58,59,60,61,62,63,64,65,66,87,88,89,91,95,96,97,99,131,132,133,135,136,140,141,142,144,145,146,147,148,151,152,155,156,157,158,159,160,161,163,164,165,167,168,169,172,173,174,175,176,177,178,183,184,185,186,187,188,189,190,191,192,193,194,195,196,197,198,203,204,207,208,211,212,213,215,216,239,240,241,243,244,245,459,467,563,567,571,575,579,580,583,611,612,795,799,1031,1032,1033,1034,1035,1036,1037,1039,1040,1047,1055,1063,1064,1071,1072,1073,1074,1175,1176,1177,1178,1179,1180,1181,1182,1277,1278,1281,1282,1447,1448,1449,1450,1451,1452,1453,1454,1653,1654,1656,2193,2194,2195,2196,2199) have mixed types. Specify dtype option on import or set low_memory=False.\n",
      "  test_data = pd.read_csv(\"../csv_file/valid.csv\")\n"
     ]
    },
    {
     "data": {
      "text/html": [
       "<div>\n",
       "<style scoped>\n",
       "    .dataframe tbody tr th:only-of-type {\n",
       "        vertical-align: middle;\n",
       "    }\n",
       "\n",
       "    .dataframe tbody tr th {\n",
       "        vertical-align: top;\n",
       "    }\n",
       "\n",
       "    .dataframe thead th {\n",
       "        text-align: right;\n",
       "    }\n",
       "</style>\n",
       "<table border=\"1\" class=\"dataframe\">\n",
       "  <thead>\n",
       "    <tr style=\"text-align: right;\">\n",
       "      <th></th>\n",
       "      <th>report_date</th>\n",
       "      <th>client_id</th>\n",
       "      <th>target</th>\n",
       "      <th>col1</th>\n",
       "      <th>col2</th>\n",
       "      <th>col3</th>\n",
       "      <th>col4</th>\n",
       "      <th>col5</th>\n",
       "      <th>col6</th>\n",
       "      <th>col7</th>\n",
       "      <th>...</th>\n",
       "      <th>col2654</th>\n",
       "      <th>col2655</th>\n",
       "      <th>col2656</th>\n",
       "      <th>col2657</th>\n",
       "      <th>col2658</th>\n",
       "      <th>col2659</th>\n",
       "      <th>col2660</th>\n",
       "      <th>col2661</th>\n",
       "      <th>col2662</th>\n",
       "      <th>col2663</th>\n",
       "    </tr>\n",
       "  </thead>\n",
       "  <tbody>\n",
       "    <tr>\n",
       "      <th>0</th>\n",
       "      <td>2022-11-01</td>\n",
       "      <td>1</td>\n",
       "      <td>0</td>\n",
       "      <td>NaN</td>\n",
       "      <td>NaN</td>\n",
       "      <td>NaN</td>\n",
       "      <td>NaN</td>\n",
       "      <td>NaN</td>\n",
       "      <td>NaN</td>\n",
       "      <td>NaN</td>\n",
       "      <td>...</td>\n",
       "      <td>NaN</td>\n",
       "      <td>NaN</td>\n",
       "      <td>NaN</td>\n",
       "      <td>NaN</td>\n",
       "      <td>NaN</td>\n",
       "      <td>NaN</td>\n",
       "      <td>NaN</td>\n",
       "      <td>NaN</td>\n",
       "      <td>NaN</td>\n",
       "      <td>0.256261</td>\n",
       "    </tr>\n",
       "    <tr>\n",
       "      <th>1</th>\n",
       "      <td>2022-11-01</td>\n",
       "      <td>5</td>\n",
       "      <td>0</td>\n",
       "      <td>NaN</td>\n",
       "      <td>NaN</td>\n",
       "      <td>NaN</td>\n",
       "      <td>NaN</td>\n",
       "      <td>NaN</td>\n",
       "      <td>NaN</td>\n",
       "      <td>NaN</td>\n",
       "      <td>...</td>\n",
       "      <td>7616803.0</td>\n",
       "      <td>7616803.0</td>\n",
       "      <td>7616803.0</td>\n",
       "      <td>NaN</td>\n",
       "      <td>NaN</td>\n",
       "      <td>NaN</td>\n",
       "      <td>7616803.0</td>\n",
       "      <td>7616803.0</td>\n",
       "      <td>7616803.0</td>\n",
       "      <td>0.256261</td>\n",
       "    </tr>\n",
       "    <tr>\n",
       "      <th>2</th>\n",
       "      <td>2022-05-01</td>\n",
       "      <td>6</td>\n",
       "      <td>0</td>\n",
       "      <td>NaN</td>\n",
       "      <td>NaN</td>\n",
       "      <td>NaN</td>\n",
       "      <td>NaN</td>\n",
       "      <td>NaN</td>\n",
       "      <td>NaN</td>\n",
       "      <td>NaN</td>\n",
       "      <td>...</td>\n",
       "      <td>NaN</td>\n",
       "      <td>NaN</td>\n",
       "      <td>NaN</td>\n",
       "      <td>NaN</td>\n",
       "      <td>NaN</td>\n",
       "      <td>NaN</td>\n",
       "      <td>NaN</td>\n",
       "      <td>NaN</td>\n",
       "      <td>NaN</td>\n",
       "      <td>0.256261</td>\n",
       "    </tr>\n",
       "    <tr>\n",
       "      <th>3</th>\n",
       "      <td>2022-09-01</td>\n",
       "      <td>7</td>\n",
       "      <td>0</td>\n",
       "      <td>NaN</td>\n",
       "      <td>NaN</td>\n",
       "      <td>NaN</td>\n",
       "      <td>NaN</td>\n",
       "      <td>NaN</td>\n",
       "      <td>NaN</td>\n",
       "      <td>NaN</td>\n",
       "      <td>...</td>\n",
       "      <td>NaN</td>\n",
       "      <td>NaN</td>\n",
       "      <td>NaN</td>\n",
       "      <td>NaN</td>\n",
       "      <td>NaN</td>\n",
       "      <td>NaN</td>\n",
       "      <td>NaN</td>\n",
       "      <td>NaN</td>\n",
       "      <td>NaN</td>\n",
       "      <td>0.258682</td>\n",
       "    </tr>\n",
       "    <tr>\n",
       "      <th>4</th>\n",
       "      <td>2022-08-01</td>\n",
       "      <td>8</td>\n",
       "      <td>0</td>\n",
       "      <td>NaN</td>\n",
       "      <td>NaN</td>\n",
       "      <td>NaN</td>\n",
       "      <td>NaN</td>\n",
       "      <td>NaN</td>\n",
       "      <td>NaN</td>\n",
       "      <td>NaN</td>\n",
       "      <td>...</td>\n",
       "      <td>NaN</td>\n",
       "      <td>NaN</td>\n",
       "      <td>NaN</td>\n",
       "      <td>NaN</td>\n",
       "      <td>NaN</td>\n",
       "      <td>NaN</td>\n",
       "      <td>NaN</td>\n",
       "      <td>NaN</td>\n",
       "      <td>NaN</td>\n",
       "      <td>0.254164</td>\n",
       "    </tr>\n",
       "  </tbody>\n",
       "</table>\n",
       "<p>5 rows × 2666 columns</p>\n",
       "</div>"
      ],
      "text/plain": [
       "  report_date  client_id  target  col1  col2  col3  col4  col5  col6  col7  \\\n",
       "0  2022-11-01          1       0   NaN   NaN   NaN   NaN   NaN   NaN   NaN   \n",
       "1  2022-11-01          5       0   NaN   NaN   NaN   NaN   NaN   NaN   NaN   \n",
       "2  2022-05-01          6       0   NaN   NaN   NaN   NaN   NaN   NaN   NaN   \n",
       "3  2022-09-01          7       0   NaN   NaN   NaN   NaN   NaN   NaN   NaN   \n",
       "4  2022-08-01          8       0   NaN   NaN   NaN   NaN   NaN   NaN   NaN   \n",
       "\n",
       "   ...    col2654    col2655    col2656  col2657  col2658  col2659    col2660  \\\n",
       "0  ...        NaN        NaN        NaN      NaN      NaN      NaN        NaN   \n",
       "1  ...  7616803.0  7616803.0  7616803.0      NaN      NaN      NaN  7616803.0   \n",
       "2  ...        NaN        NaN        NaN      NaN      NaN      NaN        NaN   \n",
       "3  ...        NaN        NaN        NaN      NaN      NaN      NaN        NaN   \n",
       "4  ...        NaN        NaN        NaN      NaN      NaN      NaN        NaN   \n",
       "\n",
       "     col2661    col2662   col2663  \n",
       "0        NaN        NaN  0.256261  \n",
       "1  7616803.0  7616803.0  0.256261  \n",
       "2        NaN        NaN  0.256261  \n",
       "3        NaN        NaN  0.258682  \n",
       "4        NaN        NaN  0.254164  \n",
       "\n",
       "[5 rows x 2666 columns]"
      ]
     },
     "execution_count": 60,
     "metadata": {},
     "output_type": "execute_result"
    }
   ],
   "source": [
    "data = pd.read_csv('../csv_file/train.csv')\n",
    "test_data = pd.read_csv(\"../csv_file/valid.csv\")\n",
    "data.head()"
   ]
  },
  {
   "cell_type": "code",
   "execution_count": 61,
   "metadata": {},
   "outputs": [
    {
     "name": "stdout",
     "output_type": "stream",
     "text": [
      "Train data info:\n",
      "<class 'pandas.core.frame.DataFrame'>\n",
      "RangeIndex: 14456 entries, 0 to 14455\n",
      "Columns: 2666 entries, report_date to col2663\n",
      "dtypes: float64(2316), int64(3), object(347)\n",
      "memory usage: 294.0+ MB\n",
      "Test data info:\n",
      "<class 'pandas.core.frame.DataFrame'>\n",
      "RangeIndex: 3642 entries, 0 to 3641\n",
      "Columns: 2666 entries, report_date to col2663\n",
      "dtypes: float64(2329), int64(3), object(334)\n",
      "memory usage: 74.1+ MB\n"
     ]
    }
   ],
   "source": [
    "print(\"Train data info:\")\n",
    "data.info()\n",
    "print(\"Test data info:\")\n",
    "test_data.info()"
   ]
  },
  {
   "cell_type": "code",
   "execution_count": 62,
   "metadata": {},
   "outputs": [
    {
     "name": "stdout",
     "output_type": "stream",
     "text": [
      "Columns to drop due to missing values: Index(['col49', 'col50', 'col51', 'col52', 'col53', 'col54', 'col55', 'col56',\n",
      "       'col57', 'col58',\n",
      "       ...\n",
      "       'col2269', 'col2270', 'col2535', 'col2536', 'col2537', 'col2538',\n",
      "       'col2539', 'col2540', 'col2541', 'col2542'],\n",
      "      dtype='object', length=426)\n"
     ]
    }
   ],
   "source": [
    "numeric_columns = data.select_dtypes(include=['number']).columns\n",
    "data[numeric_columns] = data[numeric_columns].fillna(data[numeric_columns].median())\n",
    "test_numeric_columns = test_data.select_dtypes(include=['number']).columns\n",
    "test_data[test_numeric_columns] = test_data[test_numeric_columns].fillna(test_data[test_numeric_columns].median())\n",
    "threshold = 0.7 \n",
    "missing_ratio = data.isnull().mean()\n",
    "columns_to_drop = missing_ratio[missing_ratio > threshold].index\n",
    "print(f\"Columns to drop due to missing values: {columns_to_drop}\")\n",
    "data.drop(columns=columns_to_drop, axis=1, inplace=True)\n",
    "test_data.drop(columns=columns_to_drop, axis=1, inplace=True)"
   ]
  },
  {
   "cell_type": "code",
   "execution_count": 63,
   "metadata": {},
   "outputs": [
    {
     "name": "stdout",
     "output_type": "stream",
     "text": [
      "Encoding non-numeric columns: Index(['col1454'], dtype='object')\n"
     ]
    }
   ],
   "source": [
    "X = data.drop(columns=['target', 'client_id', 'report_date'], axis=1)\n",
    "y = data['target']\n",
    "X_test = test_data.drop(columns=['client_id', 'report_date'], axis=1)\n",
    "non_numeric_columns = X.select_dtypes(exclude=['number']).columns\n",
    "if len(non_numeric_columns) > 0:\n",
    "    print(f\"Encoding non-numeric columns: {non_numeric_columns}\")\n",
    "    X = pd.get_dummies(X, columns=non_numeric_columns)\n",
    "    X_test = pd.get_dummies(X_test, columns=non_numeric_columns)\n",
    "    X_test = X_test.reindex(columns=X.columns, fill_value=0)"
   ]
  },
  {
   "cell_type": "code",
   "execution_count": 64,
   "metadata": {},
   "outputs": [],
   "source": [
    "X_train, X_val, y_train, y_val = train_test_split(X, y, test_size=0.2, random_state=42)\n"
   ]
  },
  {
   "cell_type": "code",
   "execution_count": 65,
   "metadata": {},
   "outputs": [
    {
     "name": "stdout",
     "output_type": "stream",
     "text": [
      "ROC-AUC на валидационных данных: 0.9726610250185506\n"
     ]
    }
   ],
   "source": [
    "model = RandomForestClassifier(random_state=42)\n",
    "model.fit(X_train, y_train)\n",
    "y_pred = model.predict_proba(X_val)[:, 1]\n",
    "roc_auc = roc_auc_score(y_val, y_pred)\n",
    "print(f\"ROC-AUC на валидационных данных: {roc_auc}\")"
   ]
  },
  {
   "cell_type": "code",
   "execution_count": 66,
   "metadata": {},
   "outputs": [
    {
     "name": "stderr",
     "output_type": "stream",
     "text": [
      "C:\\Users\\josha\\AppData\\Local\\Temp\\ipykernel_9864\\1435284687.py:1: PerformanceWarning: DataFrame is highly fragmented.  This is usually the result of calling `frame.insert` many times, which has poor performance.  Consider joining all columns at once using pd.concat(axis=1) instead. To get a de-fragmented frame, use `newframe = frame.copy()`\n",
      "  test_data['score'] = model.predict_proba(X_test)[:, 1]\n"
     ]
    }
   ],
   "source": [
    "test_data['score'] = model.predict_proba(X_test)[:, 1]"
   ]
  },
  {
   "cell_type": "code",
   "execution_count": 67,
   "metadata": {},
   "outputs": [
    {
     "name": "stdout",
     "output_type": "stream",
     "text": [
      "Модель успешно построена и результаты сохранены в submission_file.csv\n"
     ]
    }
   ],
   "source": [
    "test_data[['client_id', 'score']].to_csv('submission_file.csv', index=False)\n",
    "\n",
    "print(\"Модель успешно построена и результаты сохранены в submission_file.csv\")"
   ]
  },
  {
   "cell_type": "code",
   "execution_count": 68,
   "metadata": {},
   "outputs": [
    {
     "name": "stdout",
     "output_type": "stream",
     "text": [
      "      client_id   col2663\n",
      "0             2  0.256919\n",
      "1             4  0.267221\n",
      "2             9  0.257217\n",
      "3            12  0.256261\n",
      "4            14  0.257348\n",
      "...         ...       ...\n",
      "3637       4366  0.256261\n",
      "3638       8298  0.256261\n",
      "3639        835  0.256919\n",
      "3640       8300  0.257217\n",
      "3641       1974  0.285755\n",
      "\n",
      "[3642 rows x 2 columns]\n"
     ]
    }
   ],
   "source": [
    "print(test_data[['client_id','col2663']])"
   ]
  },
  {
   "cell_type": "code",
   "execution_count": null,
   "metadata": {},
   "outputs": [
    {
     "ename": "AttributeError",
     "evalue": "'RandomForestClassifier' object has no attribute 'predick'",
     "output_type": "error",
     "traceback": [
      "\u001b[1;31m---------------------------------------------------------------------------\u001b[0m",
      "\u001b[1;31mAttributeError\u001b[0m                            Traceback (most recent call last)",
      "Cell \u001b[1;32mIn[72], line 2\u001b[0m\n\u001b[0;32m      1\u001b[0m \u001b[38;5;28;01mfrom\u001b[39;00m \u001b[38;5;21;01msklearn\u001b[39;00m\u001b[38;5;21;01m.\u001b[39;00m\u001b[38;5;21;01mmetrics\u001b[39;00m \u001b[38;5;28;01mimport\u001b[39;00m accuracy_score\n\u001b[1;32m----> 2\u001b[0m y_pred_class \u001b[38;5;241m=\u001b[39m \u001b[43mmodel\u001b[49m\u001b[38;5;241;43m.\u001b[39;49m\u001b[43mpredick\u001b[49m(X_val)\n\u001b[0;32m      3\u001b[0m accuracy \u001b[38;5;241m=\u001b[39m accuracy_score(y_val, y_pred_class)\n\u001b[0;32m      4\u001b[0m y_test_pred_class \u001b[38;5;241m=\u001b[39m model\u001b[38;5;241m.\u001b[39mpredict(X_test)  \u001b[38;5;66;03m# Предсказания для тестовых данных\u001b[39;00m\n",
      "\u001b[1;31mAttributeError\u001b[0m: 'RandomForestClassifier' object has no attribute 'predick'"
     ]
    }
   ],
   "source": [
    "from sklearn.metrics import accuracy_score\n",
    "y_pred_class = model.predick(X_val)\n",
    "accuracy = accuracy_score(y_val, y_pred_class)\n",
    "y_test_pred_class = model.predict(X_test) \n",
    "test_accuracy = accuracy_score(test_data['target'], y_test_pred_class)\n",
    "print(f\"Точность на тестовых данных: {test_accuracy}\")\n"
   ]
  },
  {
   "cell_type": "code",
   "execution_count": null,
   "metadata": {},
   "outputs": [],
   "source": []
  }
 ],
 "metadata": {
  "kernelspec": {
   "display_name": ".venv",
   "language": "python",
   "name": "python3"
  },
  "language_info": {
   "codemirror_mode": {
    "name": "ipython",
    "version": 3
   },
   "file_extension": ".py",
   "mimetype": "text/x-python",
   "name": "python",
   "nbconvert_exporter": "python",
   "pygments_lexer": "ipython3",
   "version": "3.12.4"
  }
 },
 "nbformat": 4,
 "nbformat_minor": 2
}
