{
 "cells": [
  {
   "cell_type": "code",
   "execution_count": 2,
   "metadata": {},
   "outputs": [
    {
     "name": "stdout",
     "output_type": "stream",
     "text": [
      "Данные очищены и сохранены \n"
     ]
    }
   ],
   "source": [
    "import pandas as pd\n",
    "\n",
    "# Загрузим данные из CSV файла\n",
    "df = pd.read_csv(\"../AC/val.csv\")\n",
    "\n",
    "# Оставим все строки, где 'target' == 1\n",
    "df_ones = df[df['target'] == 1]\n",
    "\n",
    "# Оставим первые 10 строк, где 'target' == 0\n",
    "df_zeros = df[df['target'] == 0].head(10)\n",
    "\n",
    "# Объединим обе части\n",
    "df_filtered = pd.concat([df_ones, df_zeros])\n",
    "\n",
    "# Перемешаем строки, чтобы данные не были упорядочены по target\n",
    "df_filtered = df_filtered.sample(frac=1).reset_index(drop=True)\n",
    "\n",
    "# Сохраним очищенные данные в новый CSV файл\n",
    "df_filtered.to_csv(\"../AC/val2.csv\", index=False)\n",
    "\n",
    "print(\"Данные очищены и сохранены \")\n",
    "\n"
   ]
  }
 ],
 "metadata": {
  "kernelspec": {
   "display_name": ".venv",
   "language": "python",
   "name": "python3"
  },
  "language_info": {
   "codemirror_mode": {
    "name": "ipython",
    "version": 3
   },
   "file_extension": ".py",
   "mimetype": "text/x-python",
   "name": "python",
   "nbconvert_exporter": "python",
   "pygments_lexer": "ipython3",
   "version": "3.12.8"
  }
 },
 "nbformat": 4,
 "nbformat_minor": 2
}
