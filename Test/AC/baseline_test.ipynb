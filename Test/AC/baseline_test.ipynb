{
 "cells": [
  {
   "cell_type": "code",
   "execution_count": 39,
   "metadata": {},
   "outputs": [],
   "source": [
    "import pandas as pd"
   ]
  },
  {
   "cell_type": "code",
   "execution_count": 40,
   "metadata": {},
   "outputs": [
    {
     "name": "stderr",
     "output_type": "stream",
     "text": [
      "C:\\Users\\josha\\AppData\\Local\\Temp\\ipykernel_24712\\1451962532.py:1: DtypeWarning: Columns (51,52,53,54,55,56,57,58,59,60,61,62,63,64,65,66,87,88,89,90,91,92,93,94,95,96,97,98,99,100,101,102,131,132,133,135,136,139,140,141,142,143,144,145,146,147,148,149,151,152,155,156,157,158,159,160,161,163,164,165,167,168,169,171,172,173,174,175,176,177,178,183,184,185,186,187,188,189,190,191,192,193,194,195,196,197,198,203,204,205,206,207,208,209,210,211,212,213,214,215,216,217,218,223,224,227,239,240,241,242,243,244,245,246,459,460,461,467,468,469,515,516,523,524,531,532,539,540,547,548,555,556,563,564,565,567,571,572,573,575,579,580,581,582,583,587,588,595,596,603,604,611,612,613,615,795,796,797,799,1031,1032,1033,1034,1035,1036,1037,1039,1040,1041,1042,1043,1044,1045,1047,1048,1049,1050,1051,1052,1055,1056,1057,1058,1059,1060,1063,1064,1065,1067,1068,1069,1072,1073,1074,1075,1076,1077,1078,1172,1173,1174,1176,1177,1178,1179,1180,1181,1182,1275,1276,1277,1278,1279,1280,1281,1282,1447,1448,1449,1450,1451,1452,1453,1454,1649,1650,1651,1652,1653,1654,1655,1656,2193,2194,2195,2196,2199) have mixed types. Specify dtype option on import or set low_memory=False.\n",
      "  df = pd.read_csv('../csv_file/train.csv')\n"
     ]
    }
   ],
   "source": [
    "df = pd.read_csv('../csv_file/train.csv')"
   ]
  },
  {
   "cell_type": "code",
   "execution_count": 41,
   "metadata": {},
   "outputs": [
    {
     "data": {
      "text/html": [
       "<div>\n",
       "<style scoped>\n",
       "    .dataframe tbody tr th:only-of-type {\n",
       "        vertical-align: middle;\n",
       "    }\n",
       "\n",
       "    .dataframe tbody tr th {\n",
       "        vertical-align: top;\n",
       "    }\n",
       "\n",
       "    .dataframe thead th {\n",
       "        text-align: right;\n",
       "    }\n",
       "</style>\n",
       "<table border=\"1\" class=\"dataframe\">\n",
       "  <thead>\n",
       "    <tr style=\"text-align: right;\">\n",
       "      <th></th>\n",
       "      <th>report_date</th>\n",
       "      <th>client_id</th>\n",
       "      <th>target</th>\n",
       "      <th>col1</th>\n",
       "      <th>col2</th>\n",
       "      <th>col3</th>\n",
       "      <th>col4</th>\n",
       "      <th>col5</th>\n",
       "      <th>col6</th>\n",
       "      <th>col7</th>\n",
       "      <th>...</th>\n",
       "      <th>col2654</th>\n",
       "      <th>col2655</th>\n",
       "      <th>col2656</th>\n",
       "      <th>col2657</th>\n",
       "      <th>col2658</th>\n",
       "      <th>col2659</th>\n",
       "      <th>col2660</th>\n",
       "      <th>col2661</th>\n",
       "      <th>col2662</th>\n",
       "      <th>col2663</th>\n",
       "    </tr>\n",
       "  </thead>\n",
       "  <tbody>\n",
       "    <tr>\n",
       "      <th>0</th>\n",
       "      <td>2022-11-01</td>\n",
       "      <td>1</td>\n",
       "      <td>0</td>\n",
       "      <td>NaN</td>\n",
       "      <td>NaN</td>\n",
       "      <td>NaN</td>\n",
       "      <td>NaN</td>\n",
       "      <td>NaN</td>\n",
       "      <td>NaN</td>\n",
       "      <td>NaN</td>\n",
       "      <td>...</td>\n",
       "      <td>NaN</td>\n",
       "      <td>NaN</td>\n",
       "      <td>NaN</td>\n",
       "      <td>NaN</td>\n",
       "      <td>NaN</td>\n",
       "      <td>NaN</td>\n",
       "      <td>NaN</td>\n",
       "      <td>NaN</td>\n",
       "      <td>NaN</td>\n",
       "      <td>0.256261</td>\n",
       "    </tr>\n",
       "    <tr>\n",
       "      <th>1</th>\n",
       "      <td>2022-11-01</td>\n",
       "      <td>5</td>\n",
       "      <td>0</td>\n",
       "      <td>NaN</td>\n",
       "      <td>NaN</td>\n",
       "      <td>NaN</td>\n",
       "      <td>NaN</td>\n",
       "      <td>NaN</td>\n",
       "      <td>NaN</td>\n",
       "      <td>NaN</td>\n",
       "      <td>...</td>\n",
       "      <td>7616803.0</td>\n",
       "      <td>7616803.0</td>\n",
       "      <td>7616803.0</td>\n",
       "      <td>NaN</td>\n",
       "      <td>NaN</td>\n",
       "      <td>NaN</td>\n",
       "      <td>7616803.0</td>\n",
       "      <td>7616803.0</td>\n",
       "      <td>7616803.0</td>\n",
       "      <td>0.256261</td>\n",
       "    </tr>\n",
       "    <tr>\n",
       "      <th>2</th>\n",
       "      <td>2022-05-01</td>\n",
       "      <td>6</td>\n",
       "      <td>0</td>\n",
       "      <td>NaN</td>\n",
       "      <td>NaN</td>\n",
       "      <td>NaN</td>\n",
       "      <td>NaN</td>\n",
       "      <td>NaN</td>\n",
       "      <td>NaN</td>\n",
       "      <td>NaN</td>\n",
       "      <td>...</td>\n",
       "      <td>NaN</td>\n",
       "      <td>NaN</td>\n",
       "      <td>NaN</td>\n",
       "      <td>NaN</td>\n",
       "      <td>NaN</td>\n",
       "      <td>NaN</td>\n",
       "      <td>NaN</td>\n",
       "      <td>NaN</td>\n",
       "      <td>NaN</td>\n",
       "      <td>0.256261</td>\n",
       "    </tr>\n",
       "    <tr>\n",
       "      <th>3</th>\n",
       "      <td>2022-09-01</td>\n",
       "      <td>7</td>\n",
       "      <td>0</td>\n",
       "      <td>NaN</td>\n",
       "      <td>NaN</td>\n",
       "      <td>NaN</td>\n",
       "      <td>NaN</td>\n",
       "      <td>NaN</td>\n",
       "      <td>NaN</td>\n",
       "      <td>NaN</td>\n",
       "      <td>...</td>\n",
       "      <td>NaN</td>\n",
       "      <td>NaN</td>\n",
       "      <td>NaN</td>\n",
       "      <td>NaN</td>\n",
       "      <td>NaN</td>\n",
       "      <td>NaN</td>\n",
       "      <td>NaN</td>\n",
       "      <td>NaN</td>\n",
       "      <td>NaN</td>\n",
       "      <td>0.258682</td>\n",
       "    </tr>\n",
       "    <tr>\n",
       "      <th>4</th>\n",
       "      <td>2022-08-01</td>\n",
       "      <td>8</td>\n",
       "      <td>0</td>\n",
       "      <td>NaN</td>\n",
       "      <td>NaN</td>\n",
       "      <td>NaN</td>\n",
       "      <td>NaN</td>\n",
       "      <td>NaN</td>\n",
       "      <td>NaN</td>\n",
       "      <td>NaN</td>\n",
       "      <td>...</td>\n",
       "      <td>NaN</td>\n",
       "      <td>NaN</td>\n",
       "      <td>NaN</td>\n",
       "      <td>NaN</td>\n",
       "      <td>NaN</td>\n",
       "      <td>NaN</td>\n",
       "      <td>NaN</td>\n",
       "      <td>NaN</td>\n",
       "      <td>NaN</td>\n",
       "      <td>0.254164</td>\n",
       "    </tr>\n",
       "  </tbody>\n",
       "</table>\n",
       "<p>5 rows × 2666 columns</p>\n",
       "</div>"
      ],
      "text/plain": [
       "  report_date  client_id  target  col1  col2  col3  col4  col5  col6  col7  \\\n",
       "0  2022-11-01          1       0   NaN   NaN   NaN   NaN   NaN   NaN   NaN   \n",
       "1  2022-11-01          5       0   NaN   NaN   NaN   NaN   NaN   NaN   NaN   \n",
       "2  2022-05-01          6       0   NaN   NaN   NaN   NaN   NaN   NaN   NaN   \n",
       "3  2022-09-01          7       0   NaN   NaN   NaN   NaN   NaN   NaN   NaN   \n",
       "4  2022-08-01          8       0   NaN   NaN   NaN   NaN   NaN   NaN   NaN   \n",
       "\n",
       "   ...    col2654    col2655    col2656  col2657  col2658  col2659    col2660  \\\n",
       "0  ...        NaN        NaN        NaN      NaN      NaN      NaN        NaN   \n",
       "1  ...  7616803.0  7616803.0  7616803.0      NaN      NaN      NaN  7616803.0   \n",
       "2  ...        NaN        NaN        NaN      NaN      NaN      NaN        NaN   \n",
       "3  ...        NaN        NaN        NaN      NaN      NaN      NaN        NaN   \n",
       "4  ...        NaN        NaN        NaN      NaN      NaN      NaN        NaN   \n",
       "\n",
       "     col2661    col2662   col2663  \n",
       "0        NaN        NaN  0.256261  \n",
       "1  7616803.0  7616803.0  0.256261  \n",
       "2        NaN        NaN  0.256261  \n",
       "3        NaN        NaN  0.258682  \n",
       "4        NaN        NaN  0.254164  \n",
       "\n",
       "[5 rows x 2666 columns]"
      ]
     },
     "execution_count": 41,
     "metadata": {},
     "output_type": "execute_result"
    }
   ],
   "source": [
    "df.head()"
   ]
  },
  {
   "cell_type": "code",
   "execution_count": 42,
   "metadata": {},
   "outputs": [
    {
     "name": "stdout",
     "output_type": "stream",
     "text": [
      "<class 'pandas.core.frame.DataFrame'>\n",
      "RangeIndex: 14456 entries, 0 to 14455\n",
      "Columns: 2666 entries, report_date to col2663\n",
      "dtypes: float64(2316), int64(3), object(347)\n",
      "memory usage: 294.0+ MB\n"
     ]
    }
   ],
   "source": [
    "df.info()"
   ]
  },
  {
   "cell_type": "code",
   "execution_count": 43,
   "metadata": {},
   "outputs": [
    {
     "data": {
      "text/plain": [
       "report_date        0\n",
       "client_id          0\n",
       "target             0\n",
       "col1           14453\n",
       "col2           14450\n",
       "               ...  \n",
       "col2659        13950\n",
       "col2660         6420\n",
       "col2661         6420\n",
       "col2662         6420\n",
       "col2663            0\n",
       "Length: 2666, dtype: int64"
      ]
     },
     "execution_count": 43,
     "metadata": {},
     "output_type": "execute_result"
    }
   ],
   "source": [
    "df.isnull().sum()"
   ]
  },
  {
   "cell_type": "code",
   "execution_count": 44,
   "metadata": {},
   "outputs": [
    {
     "name": "stdout",
     "output_type": "stream",
     "text": [
      "вроде baseline : 0.5\n",
      "ROC AUC для исходных данных: 0.6103370512635947\n"
     ]
    }
   ],
   "source": [
    "from sklearn.metrics import roc_auc_score\n",
    "hsto = df['col2663'].mean()\n",
    "df[\"Predckazanie\"] = hsto\n",
    "y_true = df['target']\n",
    "roc_auc = roc_auc_score(y_true, [hsto] * len(y_true))\n",
    "print(f\"вроде baseline : {roc_auc}\")\n",
    "roc_aucs = roc_auc_score(y_true, df['col2663'])\n",
    "print(f\"ROC AUC для исходных данных: {roc_aucs}\")\n",
    "# на сколько модель может разделять 2 класса"
   ]
  },
  {
   "cell_type": "code",
   "execution_count": 50,
   "metadata": {},
   "outputs": [
    {
     "name": "stdout",
     "output_type": "stream",
     "text": [
      "по колонке среднего процента :0.25833012613469175\n",
      "по колонке купивших 0.03016048699501937\n"
     ]
    }
   ],
   "source": [
    "hst = df['col2663'].mean()\n",
    "df[\"Predckazanie\"] = hst\n",
    "htt = df['target'].mean()\n",
    "print(f'по колонке среднего процента :{hst}\\nпо колонке купивших {htt}')\n",
    "\n"
   ]
  },
  {
   "cell_type": "markdown",
   "metadata": {},
   "source": [
    "как я понял baseline можно считать и среднее значение он вель простейшая вариация если это не так то я непонял что такое baseline\n"
   ]
  },
  {
   "cell_type": "code",
   "execution_count": 51,
   "metadata": {},
   "outputs": [
    {
     "data": {
      "image/jpeg": "[encoded data removed]",
      "text/plain": [
       "<IPython.core.display.Image object>"
      ]
     },
     "metadata": {},
     "output_type": "display_data"
    }
   ],
   "source": [
    "from IPython.display import Image, display\n",
    "\n",
    "image_path = \"../AC/yes.jpg\"\n",
    "\n",
    "display(Image(filename=image_path))\n"
   ]
  }
 ],
 "metadata": {
  "kernelspec": {
   "display_name": ".venv",
   "language": "python",
   "name": "python3"
  },
  "language_info": {
   "codemirror_mode": {
    "name": "ipython",
    "version": 3
   },
   "file_extension": ".py",
   "mimetype": "text/x-python",
   "name": "python",
   "nbconvert_exporter": "python",
   "pygments_lexer": "ipython3",
   "version": "3.12.8"
  }
 },
 "nbformat": 4,
 "nbformat_minor": 2
}
